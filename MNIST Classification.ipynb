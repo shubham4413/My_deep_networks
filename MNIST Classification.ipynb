{
 "cells": [
  {
   "cell_type": "code",
   "execution_count": 5,
   "id": "8a0ef689-5746-444b-ba67-f70281f793f8",
   "metadata": {},
   "outputs": [],
   "source": [
    "import torch\n",
    "import torch.nn as nn\n",
    "import torch.nn.functional as F\n",
    "from torch.utils.data import DataLoader\n",
    "from torchvision import datasets, transforms\n",
    "from torchvision.utils import make_grid\n",
    "\n",
    "import numpy as np\n",
    "import pandas as pd\n",
    "from sklearn.metrics import confusion_matrix\n",
    "import matplotlib.pyplot as plt\n",
    "%matplotlib inline"
   ]
  },
  {
   "cell_type": "code",
   "execution_count": null,
   "id": "aba0c1a1-8e1e-4598-bbd1-bf575b520bea",
   "metadata": {},
   "outputs": [],
   "source": [
    "#Converting the MNIST datset into a tensor of 4D (no. of images, height, width, color channels)\n",
    "transform = transforms.ToTensor()"
   ]
  },
  {
   "cell_type": "code",
   "execution_count": null,
   "id": "f3413c40-6ff8-4b6d-995f-3e5e81fc5147",
   "metadata": {},
   "outputs": [],
   "source": [
    "#Get the training data\n",
    "train_data = datasets.MNIST(root='/cnn_mnist_data', train=True, download=True, transform=transform)"
   ]
  },
  {
   "cell_type": "code",
   "execution_count": 4,
   "id": "32fc6100-c232-4c1c-b96f-7e5b528f9903",
   "metadata": {},
   "outputs": [],
   "source": [
    "#test data\n",
    "test_data = datasets.MNIST(root='/cnn_mnist_data', train=False, download=True, transform=transform)"
   ]
  },
  {
   "cell_type": "code",
   "execution_count": 5,
   "id": "a43145db-dd0b-4674-9115-e635226b2e02",
   "metadata": {},
   "outputs": [
    {
     "data": {
      "text/plain": [
       "Dataset MNIST\n",
       "    Number of datapoints: 60000\n",
       "    Root location: /cnn_mnist_data\n",
       "    Split: Train\n",
       "    StandardTransform\n",
       "Transform: ToTensor()"
      ]
     },
     "execution_count": 5,
     "metadata": {},
     "output_type": "execute_result"
    }
   ],
   "source": [
    "train_data"
   ]
  },
  {
   "cell_type": "code",
   "execution_count": 6,
   "id": "258b2a3e-91b3-427c-bbcd-dfe127797162",
   "metadata": {},
   "outputs": [],
   "source": [
    "#creating small batch size for images\n",
    "train_loader = DataLoader(train_data, batch_size=10, shuffle=True)\n",
    "test_loader = DataLoader(test_data, batch_size=10, shuffle=False)"
   ]
  },
  {
   "cell_type": "code",
   "execution_count": 7,
   "id": "14b80804-226b-458f-947a-dea680360b62",
   "metadata": {},
   "outputs": [],
   "source": [
    "#define our CNN model\n",
    "#What it is doing, we will have two convolutional layers\n",
    "#The 4 arguments to be passeed in Conv2D are input (eg 1 image), output(we want 6 feature out puts), kernel/filter size (3X3 matrix), stride\n",
    "conv1 = nn.Conv2d(1, 6, 3, 1) \n",
    "conv2 = nn.Conv2d(6, 16, 3, 1)"
   ]
  },
  {
   "cell_type": "code",
   "execution_count": 8,
   "id": "07983be5-e1c9-48af-86d0-6e725479fb90",
   "metadata": {},
   "outputs": [
    {
     "data": {
      "text/plain": [
       "torch.Size([1, 28, 28])"
      ]
     },
     "execution_count": 8,
     "metadata": {},
     "output_type": "execute_result"
    }
   ],
   "source": [
    "#grab one MNIST Record/Image\n",
    "for i, (X_Train, y_train) in enumerate(train_data):\n",
    "    break\n",
    "X_Train.shape\n",
    "#this is the size of mnist data set, first index is image number and the other two are the image size (28x28 images)"
   ]
  },
  {
   "cell_type": "code",
   "execution_count": 9,
   "id": "3c123669-05f3-45fb-a989-279a46531b4e",
   "metadata": {},
   "outputs": [],
   "source": [
    "#We want to make it 4D, the first index will be of batch size then the no of image then the size of image\n",
    "x = X_Train.view(1, 1, 28, 28)"
   ]
  },
  {
   "cell_type": "code",
   "execution_count": 10,
   "id": "f84a5fa4-b9d7-49c3-bb77-1117397f57d9",
   "metadata": {},
   "outputs": [
    {
     "data": {
      "text/plain": [
       "torch.Size([1, 6, 26, 26])"
      ]
     },
     "execution_count": 10,
     "metadata": {},
     "output_type": "execute_result"
    }
   ],
   "source": [
    "#Performing the first convolution\n",
    "x = F.relu(conv1(x)) #Rectified Linear Unit\n",
    "x.shape\n",
    "#The 1 is the Image and 6 is the filters we asked for 26x26 is the resultant convoluted image, losing the 2 size as we did not set padding"
   ]
  },
  {
   "cell_type": "code",
   "execution_count": 11,
   "id": "80d0afe7-f301-48b4-9e26-d29374da1e7c",
   "metadata": {},
   "outputs": [
    {
     "data": {
      "text/plain": [
       "torch.Size([1, 6, 13, 13])"
      ]
     },
     "execution_count": 11,
     "metadata": {},
     "output_type": "execute_result"
    }
   ],
   "source": [
    "#Passing x through a pooling layer\n",
    "x = F.max_pool2d(x,2,2) #the filter size is 2 and the stride is 2 as well\n",
    "x.shape\n",
    "#26/2 is 13"
   ]
  },
  {
   "cell_type": "code",
   "execution_count": 12,
   "id": "b1a31d94-62c6-4b7d-a253-e654ee4bcab1",
   "metadata": {},
   "outputs": [
    {
     "data": {
      "text/plain": [
       "torch.Size([1, 16, 11, 11])"
      ]
     },
     "execution_count": 12,
     "metadata": {},
     "output_type": "execute_result"
    }
   ],
   "source": [
    "#Do our second convolutional layer\n",
    "x = F.relu(conv2(x))\n",
    "x.shape"
   ]
  },
  {
   "cell_type": "code",
   "execution_count": 13,
   "id": "e386e9da-6651-41d5-96f9-d65100d145e0",
   "metadata": {},
   "outputs": [
    {
     "data": {
      "text/plain": [
       "torch.Size([1, 16, 5, 5])"
      ]
     },
     "execution_count": 13,
     "metadata": {},
     "output_type": "execute_result"
    }
   ],
   "source": [
    "#lets do our second pooling layer\n",
    "x = F.max_pool2d(x, 2, 2)\n",
    "x.shape\n",
    "#11/2 = 5.5 we round down as we can not round up and create data, so we delete it"
   ]
  },
  {
   "cell_type": "code",
   "execution_count": 14,
   "id": "f5ce4a08-7c2c-4dcb-ba86-4496cfd504bb",
   "metadata": {},
   "outputs": [],
   "source": [
    "#Model Class\n",
    "class ConvolutionalNetwork(nn.Module):\n",
    "    def __init__(self):\n",
    "        super().__init__()\n",
    "        self.conv1 = nn.Conv2d(1, 6, 3, 1)\n",
    "        self.conv2 = nn.Conv2d(6, 16, 3, 1)\n",
    "        # Fully connected Layer\n",
    "        self.fc1 = nn.Linear(5*5*16, 120) # 5*5*16 as that is the output of 2 convolution and teo poolong layers\n",
    "        self.fc2 = nn.Linear(120, 84)\n",
    "        self.fc3 = nn.Linear(84, 10)\n",
    "\n",
    "    def forward(self, X):\n",
    "        # First Pass\n",
    "        X = F.relu(self.conv1(X))\n",
    "        X = F.max_pool2d(X, 2, 2)\n",
    "        # Second Pass\n",
    "        X = F.relu(self.conv2(X))\n",
    "        X = F.max_pool2d(X, 2, 2)\n",
    "\n",
    "        # Re-view to flatten it out\n",
    "        X = X.view(-1, 16*5*5)  # -1 so we can vary the batch size \n",
    "\n",
    "        # Fully connected layers\n",
    "        X = F.relu(self.fc1(X))\n",
    "        X = F.relu(self.fc2(X))\n",
    "        X = self.fc3(X)\n",
    "\n",
    "        return F.log_softmax(X, dim=1)"
   ]
  },
  {
   "cell_type": "code",
   "execution_count": 15,
   "id": "d2232ffc-6c44-4ebb-9689-580b13dfb424",
   "metadata": {},
   "outputs": [
    {
     "data": {
      "text/plain": [
       "ConvolutionalNetwork(\n",
       "  (conv1): Conv2d(1, 6, kernel_size=(3, 3), stride=(1, 1))\n",
       "  (conv2): Conv2d(6, 16, kernel_size=(3, 3), stride=(1, 1))\n",
       "  (fc1): Linear(in_features=400, out_features=120, bias=True)\n",
       "  (fc2): Linear(in_features=120, out_features=84, bias=True)\n",
       "  (fc3): Linear(in_features=84, out_features=10, bias=True)\n",
       ")"
      ]
     },
     "execution_count": 15,
     "metadata": {},
     "output_type": "execute_result"
    }
   ],
   "source": [
    "# Create an Instance for our Model\n",
    "torch.manual_seed(41)\n",
    "model = ConvolutionalNetwork()\n",
    "model"
   ]
  },
  {
   "cell_type": "code",
   "execution_count": 16,
   "id": "31e3d7dd-3b7d-4460-a70b-bec269c5358b",
   "metadata": {},
   "outputs": [],
   "source": [
    "# Loss Function  Optimizer\n",
    "criterion = nn.CrossEntropyLoss()\n",
    "optimizer = torch.optim.Adam(model.parameters(), lr=0.001) \n",
    "# the smaller the lR the longer it will take"
   ]
  },
  {
   "cell_type": "code",
   "execution_count": 17,
   "id": "1d71e9a6-e22d-454f-a673-b800018d48ef",
   "metadata": {},
   "outputs": [
    {
     "name": "stdout",
     "output_type": "stream",
     "text": [
      "Epoch: 0 Batch: 600  Loss: 0.16885995864868164\n",
      "Epoch: 0 Batch: 1200  Loss: 0.16938352584838867\n",
      "Epoch: 0 Batch: 1800  Loss: 0.4754141867160797\n",
      "Epoch: 0 Batch: 2400  Loss: 0.14266805350780487\n",
      "Epoch: 0 Batch: 3000  Loss: 0.010450301691889763\n",
      "Epoch: 0 Batch: 3600  Loss: 0.42014971375465393\n",
      "Epoch: 0 Batch: 4200  Loss: 0.0024467159528285265\n",
      "Epoch: 0 Batch: 4800  Loss: 0.002136596478521824\n",
      "Epoch: 0 Batch: 5400  Loss: 0.030971873551607132\n",
      "Epoch: 0 Batch: 6000  Loss: 0.0006094513810239732\n",
      "Epoch: 1 Batch: 600  Loss: 0.004319391213357449\n",
      "Epoch: 1 Batch: 1200  Loss: 0.22070904076099396\n",
      "Epoch: 1 Batch: 1800  Loss: 0.0039879800751805305\n",
      "Epoch: 1 Batch: 2400  Loss: 0.004662370774894953\n",
      "Epoch: 1 Batch: 3000  Loss: 0.016432903707027435\n",
      "Epoch: 1 Batch: 3600  Loss: 0.4476250112056732\n",
      "Epoch: 1 Batch: 4200  Loss: 0.027203183621168137\n",
      "Epoch: 1 Batch: 4800  Loss: 0.00029392814030870795\n",
      "Epoch: 1 Batch: 5400  Loss: 0.0004991074674762785\n",
      "Epoch: 1 Batch: 6000  Loss: 0.44433921575546265\n",
      "Epoch: 2 Batch: 600  Loss: 0.13073408603668213\n",
      "Epoch: 2 Batch: 1200  Loss: 0.0027830679900944233\n",
      "Epoch: 2 Batch: 1800  Loss: 0.0012356622610241175\n",
      "Epoch: 2 Batch: 2400  Loss: 0.012577389366924763\n",
      "Epoch: 2 Batch: 3000  Loss: 0.005754162557423115\n",
      "Epoch: 2 Batch: 3600  Loss: 0.00044383062049746513\n",
      "Epoch: 2 Batch: 4200  Loss: 0.2322358787059784\n",
      "Epoch: 2 Batch: 4800  Loss: 0.0022346689365804195\n",
      "Epoch: 2 Batch: 5400  Loss: 0.009154529310762882\n",
      "Epoch: 2 Batch: 6000  Loss: 0.16312333941459656\n",
      "Epoch: 3 Batch: 600  Loss: 0.0045324331149458885\n",
      "Epoch: 3 Batch: 1200  Loss: 0.03632328659296036\n",
      "Epoch: 3 Batch: 1800  Loss: 0.0157675351947546\n",
      "Epoch: 3 Batch: 2400  Loss: 0.0002171625819755718\n",
      "Epoch: 3 Batch: 3000  Loss: 0.0014333532890304923\n",
      "Epoch: 3 Batch: 3600  Loss: 0.0010595432249829173\n",
      "Epoch: 3 Batch: 4200  Loss: 0.03280668333172798\n",
      "Epoch: 3 Batch: 4800  Loss: 5.429263546830043e-05\n",
      "Epoch: 3 Batch: 5400  Loss: 0.1259206086397171\n",
      "Epoch: 3 Batch: 6000  Loss: 0.01308661699295044\n",
      "Epoch: 4 Batch: 600  Loss: 0.019615579396486282\n",
      "Epoch: 4 Batch: 1200  Loss: 0.03663579374551773\n",
      "Epoch: 4 Batch: 1800  Loss: 0.23039574921131134\n",
      "Epoch: 4 Batch: 2400  Loss: 0.007770670112222433\n",
      "Epoch: 4 Batch: 3000  Loss: 0.0010130152804777026\n",
      "Epoch: 4 Batch: 3600  Loss: 0.00402452377602458\n",
      "Epoch: 4 Batch: 4200  Loss: 0.0026767649687826633\n",
      "Epoch: 4 Batch: 4800  Loss: 0.0006753603229299188\n",
      "Epoch: 4 Batch: 5400  Loss: 0.2366521805524826\n",
      "Epoch: 4 Batch: 6000  Loss: 0.0006411438807845116\n",
      "Training took: 3.345512119928996 minutes!\n"
     ]
    }
   ],
   "source": [
    "import time\n",
    "start_time = time.time()\n",
    "\n",
    "#Create Variables to track things\n",
    "epochs = 5\n",
    "train_loss = []\n",
    "test_loss = []\n",
    "train_correct = []\n",
    "test_correct = []\n",
    "\n",
    "# For loop for epochs\n",
    "for i in range(epochs):\n",
    "    trn_corr = 0\n",
    "    tst_corr = 0\n",
    "    \n",
    "    # Train\n",
    "    \n",
    "    for b, (X_train, y_train) in enumerate(train_loader):\n",
    "        \n",
    "        b += 1 # Start our batch at one\n",
    "        y_pred = model(X_train) # Get pred value from train set, not flattened 2D\n",
    "        loss = criterion(y_pred, y_train) # How off are we from our prediction through cross entropy loss\n",
    "\n",
    "        predicted = torch.max(y_pred.data, 1)[1] # Add up the number of correct predictions. Indexed off the first point\n",
    "        batch_corr = (predicted == y_train).sum() # How many we got correct from this batch\n",
    "        trn_corr += batch_corr\n",
    "        \n",
    "        # Update parameters BACKPROP\n",
    "        optimizer.zero_grad()\n",
    "        loss.backward()\n",
    "        optimizer.step()\n",
    "\n",
    "        # Print out some results\n",
    "        if b%600 == 0:\n",
    "            print(f'Epoch: {i} Batch: {b}  Loss: {loss.item()}')\n",
    "\n",
    "    train_loss.append(loss)\n",
    "    train_correct.append(trn_corr) \n",
    "\n",
    "    # Test\n",
    "    with torch.no_grad():\n",
    "\n",
    "        for b, (X_test, y_test) in enumerate(test_loader):\n",
    "\n",
    "            b+= 1\n",
    "            y_val = model(X_test)\n",
    "            predicted = torch.max(y_val.data, 1)[1] #STILL DO NOT COMPLETELY UNDERSTAND THIS (Taking the max out of the 10 output values and just taking the index??)\n",
    "            tst_corr += (predicted == y_test).sum()\n",
    "\n",
    "        loss = criterion(y_val, y_test)\n",
    "        test_loss.append(loss)\n",
    "        test_correct.append(tst_corr)\n",
    "\n",
    "current_time = time.time()\n",
    "total_time = current_time - start_time\n",
    "print(f'Training took: {total_time/60} minutes!')"
   ]
  },
  {
   "cell_type": "code",
   "execution_count": 61,
   "id": "b999f50a-2673-46a2-bc01-6ff656448f35",
   "metadata": {},
   "outputs": [
    {
     "data": {
      "image/png": "[encoded data removed]",
      "text/plain": [
       "<Figure size 640x480 with 1 Axes>"
      ]
     },
     "metadata": {},
     "output_type": "display_data"
    }
   ],
   "source": [
    "# Graph the epoch vs loss graph\n",
    "#train_loss = [tl.item() for tl in train_loss]\n",
    "plt.plot(train_loss, label='Training Loss')\n",
    "plt.plot(test_loss, label='Test Loss')\n",
    "plt.title('Loss at Epoch')\n",
    "plt.legend()\n",
    "plt.show()"
   ]
  },
  {
   "cell_type": "code",
   "execution_count": 40,
   "id": "131daba7-a14c-4cd1-9082-442fed1c8335",
   "metadata": {},
   "outputs": [
    {
     "data": {
      "image/png": "[encoded data removed]",
      "text/plain": [
       "<Figure size 640x480 with 1 Axes>"
      ]
     },
     "metadata": {},
     "output_type": "display_data"
    }
   ],
   "source": [
    "#Plot the accuracy\n",
    "plt.plot([t/600 for t in train_correct], label='Training accuracy')\n",
    "plt.plot([t/100 for t in test_correct], label='Validation accuracy')\n",
    "plt.title('Accuracy at epochs')\n",
    "plt.legend()\n",
    "plt.show()"
   ]
  },
  {
   "cell_type": "code",
   "execution_count": 41,
   "id": "dd1edf60-a87b-403a-bf9f-b091a448377d",
   "metadata": {},
   "outputs": [
    {
     "name": "stdout",
     "output_type": "stream",
     "text": [
      "Out of 10000 test data set we got 9837 correct which gives us an accuracy of 98.37%\n"
     ]
    }
   ],
   "source": [
    "test_load_all = DataLoader(test_data, batch_size=10000, shuffle=False)\n",
    "with torch.no_grad():\n",
    "    correct = 0\n",
    "    for X_test, y_test in test_load_all:\n",
    "        y_val = model(X_test)\n",
    "        predicted = torch.max(y_val, 1)[1]\n",
    "        correct += (predicted == y_test).sum()\n",
    "#Printing fow many we got correct\n",
    "percent = (correct/len(test_data))*100\n",
    "print(f'Out of {len(test_data)} test data set we got {correct} correct which gives us an accuracy of {float(\"%.2f\"%percent)}%')"
   ]
  },
  {
   "cell_type": "code",
   "execution_count": 6,
   "id": "24640f41-adb1-4deb-b667-83ed1558e9e0",
   "metadata": {},
   "outputs": [
    {
     "ename": "NameError",
     "evalue": "name 'test_data' is not defined",
     "output_type": "error",
     "traceback": [
      "\u001b[0;31m---------------------------------------------------------------------------\u001b[0m",
      "\u001b[0;31mNameError\u001b[0m                                 Traceback (most recent call last)",
      "Cell \u001b[0;32mIn[6], line 4\u001b[0m\n\u001b[1;32m      2\u001b[0m \u001b[38;5;28;01mimport\u001b[39;00m\u001b[38;5;250m \u001b[39m\u001b[38;5;21;01mrandom\u001b[39;00m\n\u001b[1;32m      3\u001b[0m rand \u001b[38;5;241m=\u001b[39m random\u001b[38;5;241m.\u001b[39mrandint(\u001b[38;5;241m1\u001b[39m, \u001b[38;5;241m10000\u001b[39m)\n\u001b[0;32m----> 4\u001b[0m plt\u001b[38;5;241m.\u001b[39mimshow(\u001b[43mtest_data\u001b[49m[rand][\u001b[38;5;241m0\u001b[39m]\u001b[38;5;241m.\u001b[39mreshape(\u001b[38;5;241m28\u001b[39m,\u001b[38;5;241m28\u001b[39m))\n\u001b[1;32m      5\u001b[0m plt\u001b[38;5;241m.\u001b[39mshow()\n",
      "\u001b[0;31mNameError\u001b[0m: name 'test_data' is not defined"
     ]
    }
   ],
   "source": [
    "# grab a random image out of our test data \n",
    "import random\n",
    "rand = random.randint(1, 10000)\n",
    "plt.imshow(test_data[rand][0].reshape(28,28))\n",
    "plt.show()"
   ]
  },
  {
   "cell_type": "code",
   "execution_count": 146,
   "id": "6cdef350-0697-45e3-a086-c629d80c227b",
   "metadata": {},
   "outputs": [
    {
     "name": "stdout",
     "output_type": "stream",
     "text": [
      "torch.float32\n",
      "The model prediction of the above image is 1 and the image is labeled as 1\n"
     ]
    }
   ],
   "source": [
    "#Lets test the image\n",
    "print(test_data[rand][0].dtype)\n",
    "with torch.no_grad():\n",
    "    new_pred = model(test_data[rand][0].reshape(1, 1, 28,28)) # As we pass a 4D tensor through our CNN\n",
    "pred_num = new_pred.argmax().item()\n",
    "print(f'The model prediction of the above image is {pred_num} and the image is labeled as {test_data[rand][1]}')"
   ]
  },
  {
   "cell_type": "code",
   "execution_count": 116,
   "id": "3d55f906-dad3-417e-a2f1-5572de74e953",
   "metadata": {},
   "outputs": [
    {
     "name": "stdout",
     "output_type": "stream",
     "text": [
      "torch.float32 torch.Size([1, 28, 28])\n"
     ]
    },
    {
     "data": {
      "image/png": "[encoded data removed]",
      "text/plain": [
       "<Figure size 640x480 with 1 Axes>"
      ]
     },
     "metadata": {},
     "output_type": "display_data"
    }
   ],
   "source": [
    "# Converting the image i took into tensor\n",
    "from PIL import Image\n",
    "import torchvision.transforms as transforms\n",
    "\n",
    "# Read a PIL Image\n",
    "image = Image.open('test image 0 28.jpg')\n",
    "image = transforms.functional.to_grayscale(image, num_output_channels=1)\n",
    "# Define a transform to convert PIL \n",
    "# image to a Torch tensor\n",
    "#transform = transforms.Compose([\n",
    "    #transforms.functional.to_tensor()\n",
    "#])\n",
    "\n",
    "# transform = transforms.PILToTensor()\n",
    "# Convert the PIL image to Torch tensor\n",
    "img_tensor = transforms.functional.to_tensor(image)\n",
    "\n",
    "# print the converted Torch tensor\n",
    "print(img_tensor.dtype, img_tensor.size())\n",
    "\n",
    "plt.imshow(img_tensor.detach().numpy().T)\n",
    "plt.show()"
   ]
  },
  {
   "cell_type": "code",
   "execution_count": 148,
   "id": "765d3aaa-5b00-4a64-af57-87abcc418d97",
   "metadata": {},
   "outputs": [
    {
     "name": "stdout",
     "output_type": "stream",
     "text": [
      "The model prediction of the above image is 9\n"
     ]
    }
   ],
   "source": [
    "img = img_tensor.reshape(1, 1, 28,28)\n",
    "with torch.no_grad():\n",
    "    new_pred = model(img) # As we pass a 4D tensor through our CNN\n",
    "pred_num = new_pred.argmax().item()\n",
    "print(f'The model prediction of the above image is {pred_num}')\n",
    "#print(new_pred)"
   ]
  },
  {
   "cell_type": "code",
   "execution_count": null,
   "id": "e71d182d-4d3a-4d13-b930-90f24732dcc6",
   "metadata": {},
   "outputs": [],
   "source": []
  }
 ],
 "metadata": {
  "kernelspec": {
   "display_name": "My Environment",
   "language": "python",
   "name": "myenv"
  },
  "language_info": {
   "codemirror_mode": {
    "name": "ipython",
    "version": 3
   },
   "file_extension": ".py",
   "mimetype": "text/x-python",
   "name": "python",
   "nbconvert_exporter": "python",
   "pygments_lexer": "ipython3",
   "version": "3.10.11"
  }
 },
 "nbformat": 4,
 "nbformat_minor": 5
}
